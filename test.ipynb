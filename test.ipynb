{
 "cells": [
  {
   "cell_type": "code",
   "execution_count": 1,
   "metadata": {},
   "outputs": [],
   "source": [
    "import scipy.io as sio\n",
    "conts = sio.loadmat('testBBCLNmap144_12_12_12rounds_p_001.mat')\n",
    "from BPOTF import UFCLN\n",
    "import random\n",
    "from SlidingWindowDecoder.src.build_circuit import build_circuit\n",
    "from SlidingWindowDecoder.src.codes_q import create_bivariate_bicycle_codes, create_circulant_matrix\n",
    "import stim"
   ]
  },
  {
   "cell_type": "code",
   "execution_count": 2,
   "metadata": {},
   "outputs": [
    {
     "ename": "ValueError",
     "evalue": "The error channel vector must have length 8784, not 1.",
     "output_type": "error",
     "traceback": [
      "\u001b[1;31m---------------------------------------------------------------------------\u001b[0m",
      "\u001b[1;31mValueError\u001b[0m                                Traceback (most recent call last)",
      "Cell \u001b[1;32mIn[2], line 21\u001b[0m\n\u001b[0;32m     19\u001b[0m dem \u001b[38;5;241m=\u001b[39m circuit\u001b[38;5;241m.\u001b[39mdetector_error_model()\n\u001b[0;32m     20\u001b[0m sampler \u001b[38;5;241m=\u001b[39m circuit\u001b[38;5;241m.\u001b[39mcompile_detector_sampler()\n\u001b[1;32m---> 21\u001b[0m myDecoder \u001b[38;5;241m=\u001b[39m \u001b[43mUFCLN\u001b[49m\u001b[43m(\u001b[49m\u001b[43mconts\u001b[49m\u001b[43m)\u001b[49m\n",
      "File \u001b[1;32mc:\\Users\\ademartio\\Desktop\\josucode\\BPOTF.py:30\u001b[0m, in \u001b[0;36mUFCLN.__init__\u001b[1;34m(self, conts)\u001b[0m\n\u001b[0;32m     21\u001b[0m \u001b[38;5;28mself\u001b[39m\u001b[38;5;241m.\u001b[39mrows, \u001b[38;5;28mself\u001b[39m\u001b[38;5;241m.\u001b[39mcolumns \u001b[38;5;241m=\u001b[39m \u001b[38;5;28mself\u001b[39m\u001b[38;5;241m.\u001b[39mH_phen\u001b[38;5;241m.\u001b[39mshape\n\u001b[0;32m     22\u001b[0m \u001b[38;5;66;03m# self._model = detector_error_model_to_check_matrices(dem)\u001b[39;00m\n\u001b[0;32m     23\u001b[0m \u001b[38;5;66;03m# self.H = self._model.check_matrix\u001b[39;00m\n\u001b[0;32m     24\u001b[0m \u001b[38;5;66;03m# self.Hedge = self._model.edge_check_matrix\u001b[39;00m\n\u001b[1;32m   (...)\u001b[0m\n\u001b[0;32m     28\u001b[0m \u001b[38;5;66;03m# self.priors_edges = self._model.hyperedge_to_edge_matrix @ self.priors\u001b[39;00m\n\u001b[0;32m     29\u001b[0m \u001b[38;5;66;03m# Para hacer el primer BP, en el cln \u001b[39;00m\n\u001b[1;32m---> 30\u001b[0m \u001b[38;5;28mself\u001b[39m\u001b[38;5;241m.\u001b[39m_bpd \u001b[38;5;241m=\u001b[39m \u001b[43mbp_decoder\u001b[49m\u001b[43m(\u001b[49m\n\u001b[0;32m     31\u001b[0m \u001b[43m    \u001b[49m\u001b[38;5;28;43mself\u001b[39;49m\u001b[38;5;241;43m.\u001b[39;49m\u001b[43mH\u001b[49m\u001b[43m,\u001b[49m\n\u001b[0;32m     32\u001b[0m \u001b[43m    \u001b[49m\u001b[43mchannel_probs\u001b[49m\u001b[43m \u001b[49m\u001b[38;5;241;43m=\u001b[39;49m\u001b[43m \u001b[49m\u001b[38;5;28;43mself\u001b[39;49m\u001b[38;5;241;43m.\u001b[39;49m\u001b[43mpriors\u001b[49m\n\u001b[0;32m     33\u001b[0m \u001b[43m\u001b[49m\u001b[43m)\u001b[49m\n\u001b[0;32m     34\u001b[0m \u001b[38;5;66;03m# Para hacer el segundo BP, en la matriz de los edges y, futúramente fenomenológica\u001b[39;00m\n\u001b[0;32m     35\u001b[0m \u001b[38;5;28mself\u001b[39m\u001b[38;5;241m.\u001b[39m_bpd2 \u001b[38;5;241m=\u001b[39m bp_decoder(\n\u001b[0;32m     36\u001b[0m     \u001b[38;5;28mself\u001b[39m\u001b[38;5;241m.\u001b[39mH_phen,\n\u001b[0;32m     37\u001b[0m     channel_probs \u001b[38;5;241m=\u001b[39m \u001b[38;5;28mself\u001b[39m\u001b[38;5;241m.\u001b[39mtransf_M \u001b[38;5;241m@\u001b[39m \u001b[38;5;28mself\u001b[39m\u001b[38;5;241m.\u001b[39mpriors\n\u001b[0;32m     38\u001b[0m )\n",
      "File \u001b[1;32msrc_python\\\\ldpc\\\\bp_decoder\\\\_bp_decoder.pyx:148\u001b[0m, in \u001b[0;36mldpc.bp_decoder._bp_decoder.BpDecoderBase.__cinit__\u001b[1;34m()\u001b[0m\n",
      "File \u001b[1;32msrc_python\\\\ldpc\\\\bp_decoder\\\\_bp_decoder.pyx:216\u001b[0m, in \u001b[0;36mldpc.bp_decoder._bp_decoder.BpDecoderBase.error_channel.__set__\u001b[1;34m()\u001b[0m\n",
      "\u001b[1;31mValueError\u001b[0m: The error channel vector must have length 8784, not 1."
     ]
    }
   ],
   "source": [
    "dem = conts['dem']\n",
    "priors = conts['priors']\n",
    "transf_M = conts['transfMatFull']\n",
    "H_phen = conts['Hphen']\n",
    "obs = conts['obs']\n",
    "hz = conts['hz']\n",
    "code, A_list, B_list = create_bivariate_bicycle_codes(12, 6, [3], [1,2], [1,2], [3])\n",
    "d = 12\n",
    "p = 0.005\n",
    "NMC = 10**4\n",
    "\n",
    "circuit = build_circuit(code, A_list, B_list, \n",
    "                        p=p, # physical error rate\n",
    "                        num_repeat=d, # usually set to code distance\n",
    "                        z_basis=True,   # whether in the z-basis or x-basis\n",
    "                        use_both=False, # whether use measurement results in both basis to decode one basis\n",
    "                        )\n",
    "\n",
    "dem = circuit.detector_error_model()\n",
    "sampler = circuit.compile_detector_sampler()\n",
    "myDecoder = UFCLN(conts)"
   ]
  },
  {
   "cell_type": "code",
   "execution_count": 6,
   "metadata": {},
   "outputs": [],
   "source": [
    "detection_events, observable_flips = sampler.sample(NMC, separate_observables=True)"
   ]
  },
  {
   "cell_type": "code",
   "execution_count": null,
   "metadata": {},
   "outputs": [],
   "source": [
    "for index, detection_event in enumerate(detection_events):\n",
    "    observable_flip = observable_flips[index]\n",
    "    "
   ]
  }
 ],
 "metadata": {
  "kernelspec": {
   "display_name": "Python 3",
   "language": "python",
   "name": "python3"
  },
  "language_info": {
   "codemirror_mode": {
    "name": "ipython",
    "version": 3
   },
   "file_extension": ".py",
   "mimetype": "text/x-python",
   "name": "python",
   "nbconvert_exporter": "python",
   "pygments_lexer": "ipython3",
   "version": "3.10.14"
  }
 },
 "nbformat": 4,
 "nbformat_minor": 2
}
